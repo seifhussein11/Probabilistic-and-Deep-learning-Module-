{
  "nbformat": 4,
  "nbformat_minor": 0,
  "metadata": {
    "colab": {
      "provenance": []
    },
    "kernelspec": {
      "name": "python3",
      "display_name": "Python 3"
    },
    "language_info": {
      "name": "python"
    }
  },
  "cells": [
    {
      "cell_type": "code",
      "metadata": {
        "id": "NCVGVorAPz0X"
      },
      "source": [
        "import numpy as np\n",
        "import matplotlib.pyplot as plt\n",
        "from scipy.stats import pearsonr\n",
        "from sklearn.decomposition import PCA"
      ],
      "execution_count": 1,
      "outputs": []
    },
    {
      "cell_type": "markdown",
      "source": [
        "numpy is used to load the dataset csv. skiprows are used to skip the first row which only contains headers"
      ],
      "metadata": {
        "id": "9G_950w_Jd5g"
      }
    },
    {
      "cell_type": "code",
      "source": [
        "data = np.loadtxt('PADL-Q1.csv',delimiter=',',skiprows=1)\n"
      ],
      "metadata": {
        "id": "QwIADfZMPAqO"
      },
      "execution_count": 26,
      "outputs": []
    },
    {
      "cell_type": "markdown",
      "source": [
        "the variance of every feature is printed before applying PCA. this is done to ensure that the total variance before PCA is the same after PCA. Also knowing the variance of every feature is crucial to be able to determine the miniumum number of dimensions that we can get reduced into after PCA. Because if the chosen minumum componenets contain contain the features that have the most varience, then the other principal components can be neglected as most the features with most variance are already included in the preceeding principal components. The variance is calculated using numpy."
      ],
      "metadata": {
        "id": "V5FZ8QgqJoFu"
      }
    },
    {
      "cell_type": "code",
      "source": [
        "totVar = 0\n",
        "for i, dim in enumerate(('first','second','third','fourth','fifth')):\n",
        "  var = np.var(data[:,i])\n",
        "  totVar+=var\n",
        "  print('Here is the sample variance for the {0} dimension'.format(dim))\n",
        "  print('var = {0}\\n\\n'.format(var))\n",
        "\n",
        "print(\"totVar=\", totVar)"
      ],
      "metadata": {
        "colab": {
          "base_uri": "https://localhost:8080/"
        },
        "id": "dRYyOJDkQaSm",
        "outputId": "12789aa0-582a-4eeb-f61d-7fdd7fb27520"
      },
      "execution_count": 27,
      "outputs": [
        {
          "output_type": "stream",
          "name": "stdout",
          "text": [
            "Here is the sample variance for the first dimension\n",
            "var = 2.048653995434412\n",
            "\n",
            "\n",
            "Here is the sample variance for the second dimension\n",
            "var = 8.039105393081824\n",
            "\n",
            "\n",
            "Here is the sample variance for the third dimension\n",
            "var = 17.885689822024325\n",
            "\n",
            "\n",
            "Here is the sample variance for the fourth dimension\n",
            "var = 32.314479829829196\n",
            "\n",
            "\n",
            "Here is the sample variance for the fifth dimension\n",
            "var = 54.41702008103843\n",
            "\n",
            "\n",
            "totVar= 114.70494912140819\n"
          ]
        }
      ]
    },
    {
      "cell_type": "markdown",
      "source": [
        "PCA is first initialized with number of components equal to our number of features, then it is fitted to our data to compute the principal components of our dataset. Each principal component has its eigenvalues which is the amount of variance that every principal component capture. the fit_transform function is used to create a new dataset which resembles the original dataset when projected into the new principal components"
      ],
      "metadata": {
        "id": "2R4YRyeWLJzO"
      }
    },
    {
      "cell_type": "code",
      "source": [
        "pca = PCA(n_components=5)\n",
        "pca.fit(data)\n",
        "newData = pca.fit_transform(data)"
      ],
      "metadata": {
        "id": "d_kNlGr_Q1Xh"
      },
      "execution_count": 28,
      "outputs": []
    },
    {
      "cell_type": "markdown",
      "source": [
        "After applying PCA and getting the new dataset with the new principal components. the value of the variance of every component and the total of all components is calculated, to make sure that the new dataset total variance is equal to the original dataset total variance, but now the variance is concenterated in the beginning principal components."
      ],
      "metadata": {
        "id": "gjYvBk0PMU7-"
      }
    },
    {
      "cell_type": "code",
      "source": [
        "totVar = 0\n",
        "for i, dim in enumerate(('first','second','third','fourth','fifth')):\n",
        "  var = np.var(newData[:,i])\n",
        "  totVar+=var\n",
        "  print('Here is the sample variance for the {0} dimension'.format(dim))\n",
        "  print('var = {0}\\n\\n'.format(var))\n",
        "\n",
        "print(\"totVar=\", totVar)"
      ],
      "metadata": {
        "colab": {
          "base_uri": "https://localhost:8080/"
        },
        "id": "fF5W5wPGRO1m",
        "outputId": "a826ec03-b3ae-4fe3-baa7-a0a1dccdac93"
      },
      "execution_count": 29,
      "outputs": [
        {
          "output_type": "stream",
          "name": "stdout",
          "text": [
            "Here is the sample variance for the first dimension\n",
            "var = 61.76434650173085\n",
            "\n",
            "\n",
            "Here is the sample variance for the second dimension\n",
            "var = 34.48928083288869\n",
            "\n",
            "\n",
            "Here is the sample variance for the third dimension\n",
            "var = 11.772455728127955\n",
            "\n",
            "\n",
            "Here is the sample variance for the fourth dimension\n",
            "var = 5.283110268309786\n",
            "\n",
            "\n",
            "Here is the sample variance for the fifth dimension\n",
            "var = 1.3957557903509359\n",
            "\n",
            "\n",
            "totVar= 114.7049491214082\n"
          ]
        }
      ]
    },
    {
      "cell_type": "markdown",
      "source": [
        "The explained variance ratio is the percentage of the variance of each prinicipal component divided by the total variance. this is crucial to know in order to determine the minumum needed number of dimensions that wont result in little or no information loss."
      ],
      "metadata": {
        "id": "XJl_UGnKOcYl"
      }
    },
    {
      "cell_type": "code",
      "source": [
        "explained_variance_ratio = pca.explained_variance_ratio_\n",
        "print(explained_variance_ratio)"
      ],
      "metadata": {
        "colab": {
          "base_uri": "https://localhost:8080/"
        },
        "id": "QT5Okh7RWnXW",
        "outputId": "6fc712f5-8c6b-4e55-fe9c-2f1ad8bd63d2"
      },
      "execution_count": 30,
      "outputs": [
        {
          "output_type": "stream",
          "name": "stdout",
          "text": [
            "[0.53846279 0.30067823 0.1026325  0.04605826 0.01216823]\n"
          ]
        }
      ]
    },
    {
      "cell_type": "markdown",
      "source": [
        "to determine the minimum number of dimensions, loadings of every feature in each principal component is plotted, the loadings is used to interpret how much each feature contribute each principal components. As seen by the plots, the first three principal components, the features with most variance contribute most to them."
      ],
      "metadata": {
        "id": "X3xpw9yiPNzg"
      }
    },
    {
      "cell_type": "code",
      "source": [
        "loadings = pca.components_\n",
        "num_pc = len(pca.explained_variance_ratio_)\n",
        "num_features = data.shape[1]\n",
        "plt.figure(figsize=(10, 4))\n",
        "for i in range(num_pc):\n",
        "    plt.subplot(1, num_pc, i + 1)\n",
        "    plt.bar(np.arange(num_features), loadings[i])\n",
        "    plt.title(f'PC {i + 1}')\n",
        "    plt.xlabel('Features')\n",
        "    plt.ylabel('Loading')\n",
        "    plt.xticks(np.arange(num_features), labels=np.arange(1, num_features + 1))\n",
        "plt.tight_layout()\n",
        "plt.show()"
      ],
      "metadata": {
        "colab": {
          "base_uri": "https://localhost:8080/",
          "height": 407
        },
        "id": "_TJevSYrZKPw",
        "outputId": "5bc4b4d8-31aa-4242-b6be-8feb7dec66e7"
      },
      "execution_count": 34,
      "outputs": [
        {
          "output_type": "display_data",
          "data": {
            "text/plain": [
              "<Figure size 1000x400 with 5 Axes>"
            ],
            "image/png": "[encoded data removed]"
          },
          "metadata": {}
        }
      ]
    },
    {
      "cell_type": "markdown",
      "source": [
        "The mininum number of dimensions was chosen to be 3, this is because the first 3 principal contain approximatly 95% of the total variance based on the explained variance ratio calculation, which will result in very low loss in information. Also by interpreting the loadings plot, it can be seen that the features with most variance has a very strong influence and correlation with the first 3 principal components. Moreover, 95% is commonly used as variance coverage thereshold, and the first 3 components have nearly 95% of the total variance of all features. Taking only the first 3 principal components will result in a very little information loss, however it save us alot because the dimensions are reduced from 5 to 3 which is really helpful."
      ],
      "metadata": {
        "id": "q15NkSKKStqH"
      }
    },
    {
      "cell_type": "code",
      "source": [
        "pca = PCA(n_components=3)\n",
        "pca.fit(data)\n",
        "minData = pca.fit_transform(data)"
      ],
      "metadata": {
        "id": "Ewhh2Lk5-fRd"
      },
      "execution_count": 35,
      "outputs": []
    },
    {
      "cell_type": "markdown",
      "source": [
        "first, the explained variance of the principal components is extracted, the explained variance is the ratio of the variance in the component by the total variance in all components. np.argsort returns the indexes of the in an order that would make the array sorted. the array of principal components is sorted based on their value of explained variance. slicing is used to reverse the array as the default argsort return the array sorted in ascending order. After that, a loop that literates over the sorted indexes array is constructed, a variable to store the parts of each equation for every index is initialized. then each feature in the original dataset is literated over to get its coefficients for the principal component that its iterating over. Then the coeifficient and the index of the feature is added to the parts. finally, the parts that we gor is iterated over to print the equations."
      ],
      "metadata": {
        "id": "kC6eVkbZ07B-"
      }
    },
    {
      "cell_type": "code",
      "source": [
        "\n",
        "sorted_indices = np.argsort(pca.explained_variance_)[::-1]\n",
        "\n",
        "for i in sorted_indices:\n",
        "    print(f\"Principal Component {i+1}:\")\n",
        "    parts = []\n",
        "    for j in range(data.shape[1]):\n",
        "        coefficient = pca.components_[i, j]\n",
        "        parts.append((coefficient, j + 1))\n",
        "    for part in parts:\n",
        "        print(f\"{part[0]} * x{part[1]}\", end=\" \")\n",
        "        if part != parts[-1]:\n",
        "            print(\"+\", end=\" \")\n",
        "    print(\"\\n\")"
      ],
      "metadata": {
        "colab": {
          "base_uri": "https://localhost:8080/"
        },
        "id": "hWYhN6Sp_y82",
        "outputId": "8ee9caa3-4ca6-4a33-863e-f35c004c108c"
      },
      "execution_count": 36,
      "outputs": [
        {
          "output_type": "stream",
          "name": "stdout",
          "text": [
            "Principal Component 1:\n",
            "-0.09281878980481824 * x1 + 0.025271864878144812 * x2 + -0.3487698084971414 * x3 + 0.14508262540371697 * x4 + -0.9208999172502852 * x5 \n",
            "\n",
            "Principal Component 2:\n",
            "0.005623623398806438 * x1 + -0.298704634907195 * x2 + -0.11422130504512426 * x3 + -0.9406225721091186 * x4 + -0.11369514614723963 * x5 \n",
            "\n",
            "Principal Component 3:\n",
            "0.11266752492394691 * x1 + -0.13315621955233634 * x2 + 0.9142030225981608 * x3 + -0.023934285672261336 * x4 + -0.3650142921363313 * x5 \n",
            "\n"
          ]
        }
      ]
    }
  ]
}